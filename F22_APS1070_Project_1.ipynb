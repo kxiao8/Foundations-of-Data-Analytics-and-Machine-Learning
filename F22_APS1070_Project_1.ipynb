{
 "cells": [
  {
   "cell_type": "markdown",
   "metadata": {
    "id": "08owH-AVyZCX",
    "pycharm": {
     "name": "#%% md\n"
    }
   },
   "source": [
    "# APS1070\n",
    "#### Project 1 --- Basic Principles and Models \n",
    "**Deadline: Oct 6th, 9PM - 10 percent**"
   ]
  },
  {
   "cell_type": "markdown",
   "metadata": {
    "id": "fRZ3wBoe398S",
    "pycharm": {
     "name": "#%% md\n"
    }
   },
   "source": [
    "**Academic Integrity**\n",
    "\n",
    "This project is individual - it is to be completed on your own. If you have questions, please post your query in the APS1070 Piazza Q&A forums (the answer might be useful to others!).\n",
    "\n",
    "Do not share your code with others, or post your work online. Do not submit code that you have not written yourself. Students suspected of plagiarism on a project, midterm or exam will be referred to the department for formal discipline for breaches of the Student Code of Conduct."
   ]
  },
  {
   "cell_type": "markdown",
   "metadata": {
    "id": "qonbueFGyemb",
    "pycharm": {
     "name": "#%% md\n"
    }
   },
   "source": [
    "Name: _Kecheng Xiao_  *(here and elsewhere, please replace the underscore with your answer)*\n",
    "\n",
    "Student ID: _1008709140_"
   ]
  },
  {
   "cell_type": "markdown",
   "metadata": {
    "id": "Dykrw3cyy7PF",
    "pycharm": {
     "name": "#%% md\n"
    }
   },
   "source": [
    "##**Marking Scheme:**\n",
    "\n",
    "This project is worth **10 percent** of your final grade.\n",
    "\n",
    "Draw a plot or table where necessary to summarize your findings. \n",
    "\n",
    "**Practice Vectorized coding**: If you need to write a loop in your solution, think about how you can implement the same functionality with vectorized operations. Try to avoid loops as much as possible (in some cases, loops are inevitable).\n",
    "\n",
    "\n"
   ]
  },
  {
   "cell_type": "markdown",
   "metadata": {
    "id": "dBW_phAt5wYk",
    "pycharm": {
     "name": "#%% md\n"
    }
   },
   "source": [
    "### How to submit **(HTML + IPYNB)**\n",
    "\n",
    "1. Download your notebook: `File -> Download .ipynb`\n",
    "\n",
    "2. Click on the Files icon on the far left menu of Colab\n",
    "\n",
    "3. Select & upload your `.ipynb` file you just downloaded, and then obtain its path (right click) (you might need to hit the Refresh button before your file shows up)\n",
    "\n",
    "\n",
    "4. execute the following in a Colab cell:\n",
    "```\n",
    "%%shell\n",
    "jupyter nbconvert --to html /PATH/TO/YOUR/NOTEBOOKFILE.ipynb\n",
    "```\n",
    "\n",
    "5. An HTML version of your notebook will appear in the files, so you can download it.\n",
    "\n",
    "6. Submit **both** <font color='red'>`HTML` and `IPYNB`</font>  files on Quercus for grading.\n",
    "\n",
    "\n",
    "\n",
    "Ref: https://stackoverflow.com/a/64487858 \n",
    "\n"
   ]
  },
  {
   "cell_type": "markdown",
   "metadata": {
    "id": "yYlo7mIXyZFe",
    "pycharm": {
     "name": "#%% md\n"
    }
   },
   "source": [
    "# Project 1 [10 Marks] \n",
    "Let's apply the tools we have learned in the tutorial to a new dataset.\n",
    "\n",
    "We're going to work with a breast cancer dataset. Download it using the cell below:"
   ]
  },
  {
   "cell_type": "code",
   "execution_count": 1,
   "metadata": {
    "id": "YFo8KVcryZFe",
    "pycharm": {
     "name": "#%%\n"
    }
   },
   "outputs": [],
   "source": [
    "from sklearn.datasets import load_breast_cancer\n",
    "\n",
    "dataset = load_breast_cancer()\n",
    "#dataset"
   ]
  },
  {
   "cell_type": "code",
   "execution_count": 2,
   "metadata": {
    "colab": {
     "base_uri": "https://localhost:8080/",
     "height": 331
    },
    "id": "SHfd9IEPv4mY",
    "outputId": "230c7a2f-125f-454b-d623-6325a8b9d328",
    "pycharm": {
     "name": "#%%\n"
    }
   },
   "outputs": [
    {
     "data": {
      "text/html": [
       "<div>\n",
       "<style scoped>\n",
       "    .dataframe tbody tr th:only-of-type {\n",
       "        vertical-align: middle;\n",
       "    }\n",
       "\n",
       "    .dataframe tbody tr th {\n",
       "        vertical-align: top;\n",
       "    }\n",
       "\n",
       "    .dataframe thead th {\n",
       "        text-align: right;\n",
       "    }\n",
       "</style>\n",
       "<table border=\"1\" class=\"dataframe\">\n",
       "  <thead>\n",
       "    <tr style=\"text-align: right;\">\n",
       "      <th></th>\n",
       "      <th>mean radius</th>\n",
       "      <th>mean texture</th>\n",
       "      <th>mean perimeter</th>\n",
       "      <th>mean area</th>\n",
       "      <th>mean smoothness</th>\n",
       "      <th>mean compactness</th>\n",
       "      <th>mean concavity</th>\n",
       "      <th>mean concave points</th>\n",
       "      <th>mean symmetry</th>\n",
       "      <th>mean fractal dimension</th>\n",
       "      <th>...</th>\n",
       "      <th>worst texture</th>\n",
       "      <th>worst perimeter</th>\n",
       "      <th>worst area</th>\n",
       "      <th>worst smoothness</th>\n",
       "      <th>worst compactness</th>\n",
       "      <th>worst concavity</th>\n",
       "      <th>worst concave points</th>\n",
       "      <th>worst symmetry</th>\n",
       "      <th>worst fractal dimension</th>\n",
       "      <th>target</th>\n",
       "    </tr>\n",
       "  </thead>\n",
       "  <tbody>\n",
       "    <tr>\n",
       "      <th>0</th>\n",
       "      <td>17.99</td>\n",
       "      <td>10.38</td>\n",
       "      <td>122.80</td>\n",
       "      <td>1001.0</td>\n",
       "      <td>0.11840</td>\n",
       "      <td>0.27760</td>\n",
       "      <td>0.3001</td>\n",
       "      <td>0.14710</td>\n",
       "      <td>0.2419</td>\n",
       "      <td>0.07871</td>\n",
       "      <td>...</td>\n",
       "      <td>17.33</td>\n",
       "      <td>184.60</td>\n",
       "      <td>2019.0</td>\n",
       "      <td>0.1622</td>\n",
       "      <td>0.6656</td>\n",
       "      <td>0.7119</td>\n",
       "      <td>0.2654</td>\n",
       "      <td>0.4601</td>\n",
       "      <td>0.11890</td>\n",
       "      <td>0</td>\n",
       "    </tr>\n",
       "    <tr>\n",
       "      <th>1</th>\n",
       "      <td>20.57</td>\n",
       "      <td>17.77</td>\n",
       "      <td>132.90</td>\n",
       "      <td>1326.0</td>\n",
       "      <td>0.08474</td>\n",
       "      <td>0.07864</td>\n",
       "      <td>0.0869</td>\n",
       "      <td>0.07017</td>\n",
       "      <td>0.1812</td>\n",
       "      <td>0.05667</td>\n",
       "      <td>...</td>\n",
       "      <td>23.41</td>\n",
       "      <td>158.80</td>\n",
       "      <td>1956.0</td>\n",
       "      <td>0.1238</td>\n",
       "      <td>0.1866</td>\n",
       "      <td>0.2416</td>\n",
       "      <td>0.1860</td>\n",
       "      <td>0.2750</td>\n",
       "      <td>0.08902</td>\n",
       "      <td>0</td>\n",
       "    </tr>\n",
       "    <tr>\n",
       "      <th>2</th>\n",
       "      <td>19.69</td>\n",
       "      <td>21.25</td>\n",
       "      <td>130.00</td>\n",
       "      <td>1203.0</td>\n",
       "      <td>0.10960</td>\n",
       "      <td>0.15990</td>\n",
       "      <td>0.1974</td>\n",
       "      <td>0.12790</td>\n",
       "      <td>0.2069</td>\n",
       "      <td>0.05999</td>\n",
       "      <td>...</td>\n",
       "      <td>25.53</td>\n",
       "      <td>152.50</td>\n",
       "      <td>1709.0</td>\n",
       "      <td>0.1444</td>\n",
       "      <td>0.4245</td>\n",
       "      <td>0.4504</td>\n",
       "      <td>0.2430</td>\n",
       "      <td>0.3613</td>\n",
       "      <td>0.08758</td>\n",
       "      <td>0</td>\n",
       "    </tr>\n",
       "    <tr>\n",
       "      <th>3</th>\n",
       "      <td>11.42</td>\n",
       "      <td>20.38</td>\n",
       "      <td>77.58</td>\n",
       "      <td>386.1</td>\n",
       "      <td>0.14250</td>\n",
       "      <td>0.28390</td>\n",
       "      <td>0.2414</td>\n",
       "      <td>0.10520</td>\n",
       "      <td>0.2597</td>\n",
       "      <td>0.09744</td>\n",
       "      <td>...</td>\n",
       "      <td>26.50</td>\n",
       "      <td>98.87</td>\n",
       "      <td>567.7</td>\n",
       "      <td>0.2098</td>\n",
       "      <td>0.8663</td>\n",
       "      <td>0.6869</td>\n",
       "      <td>0.2575</td>\n",
       "      <td>0.6638</td>\n",
       "      <td>0.17300</td>\n",
       "      <td>0</td>\n",
       "    </tr>\n",
       "    <tr>\n",
       "      <th>4</th>\n",
       "      <td>20.29</td>\n",
       "      <td>14.34</td>\n",
       "      <td>135.10</td>\n",
       "      <td>1297.0</td>\n",
       "      <td>0.10030</td>\n",
       "      <td>0.13280</td>\n",
       "      <td>0.1980</td>\n",
       "      <td>0.10430</td>\n",
       "      <td>0.1809</td>\n",
       "      <td>0.05883</td>\n",
       "      <td>...</td>\n",
       "      <td>16.67</td>\n",
       "      <td>152.20</td>\n",
       "      <td>1575.0</td>\n",
       "      <td>0.1374</td>\n",
       "      <td>0.2050</td>\n",
       "      <td>0.4000</td>\n",
       "      <td>0.1625</td>\n",
       "      <td>0.2364</td>\n",
       "      <td>0.07678</td>\n",
       "      <td>0</td>\n",
       "    </tr>\n",
       "  </tbody>\n",
       "</table>\n",
       "<p>5 rows × 31 columns</p>\n",
       "</div>"
      ],
      "text/plain": [
       "   mean radius  mean texture  mean perimeter  mean area  mean smoothness  \\\n",
       "0        17.99         10.38          122.80     1001.0          0.11840   \n",
       "1        20.57         17.77          132.90     1326.0          0.08474   \n",
       "2        19.69         21.25          130.00     1203.0          0.10960   \n",
       "3        11.42         20.38           77.58      386.1          0.14250   \n",
       "4        20.29         14.34          135.10     1297.0          0.10030   \n",
       "\n",
       "   mean compactness  mean concavity  mean concave points  mean symmetry  \\\n",
       "0           0.27760          0.3001              0.14710         0.2419   \n",
       "1           0.07864          0.0869              0.07017         0.1812   \n",
       "2           0.15990          0.1974              0.12790         0.2069   \n",
       "3           0.28390          0.2414              0.10520         0.2597   \n",
       "4           0.13280          0.1980              0.10430         0.1809   \n",
       "\n",
       "   mean fractal dimension  ...  worst texture  worst perimeter  worst area  \\\n",
       "0                 0.07871  ...          17.33           184.60      2019.0   \n",
       "1                 0.05667  ...          23.41           158.80      1956.0   \n",
       "2                 0.05999  ...          25.53           152.50      1709.0   \n",
       "3                 0.09744  ...          26.50            98.87       567.7   \n",
       "4                 0.05883  ...          16.67           152.20      1575.0   \n",
       "\n",
       "   worst smoothness  worst compactness  worst concavity  worst concave points  \\\n",
       "0            0.1622             0.6656           0.7119                0.2654   \n",
       "1            0.1238             0.1866           0.2416                0.1860   \n",
       "2            0.1444             0.4245           0.4504                0.2430   \n",
       "3            0.2098             0.8663           0.6869                0.2575   \n",
       "4            0.1374             0.2050           0.4000                0.1625   \n",
       "\n",
       "   worst symmetry  worst fractal dimension  target  \n",
       "0          0.4601                  0.11890       0  \n",
       "1          0.2750                  0.08902       0  \n",
       "2          0.3613                  0.08758       0  \n",
       "3          0.6638                  0.17300       0  \n",
       "4          0.2364                  0.07678       0  \n",
       "\n",
       "[5 rows x 31 columns]"
      ]
     },
     "execution_count": 2,
     "metadata": {},
     "output_type": "execute_result"
    }
   ],
   "source": [
    "import pandas as pd\n",
    "\n",
    "# read data and set the column names with feature names\n",
    "df = pd.DataFrame(dataset.data, columns=dataset.feature_names)\n",
    "# add the target column\n",
    "df['target'] = dataset.target\n",
    "# show\n",
    "df.head()"
   ]
  },
  {
   "cell_type": "markdown",
   "metadata": {
    "id": "gOGmwyQNyZFh",
    "pycharm": {
     "name": "#%% md\n"
    }
   },
   "source": [
    "## Part 1: Getting started [2 Marks]\n",
    "First off, take a look at the `data`, `target` and `feature_names` entries in the `dataset` dictionary. They contain the information we'll be working with here. Then, create a Pandas DataFrame called `df` containing the data and the targets, with the feature names as column headings. If you need help, see [here](https://pandas.pydata.org/pandas-docs/stable/reference/api/pandas.DataFrame.html) for more details on how to achieve this. **[0.4]**\n",
    "* How many features do we have in this dataset? _30_\n",
    "* How many observations have a 'mean area' of greater than 700? _171_\n",
    "* How many participants tested `Malignant`? _212_\n",
    "* How many participants tested `Benign`? _357_"
   ]
  },
  {
   "cell_type": "code",
   "execution_count": 3,
   "metadata": {
    "colab": {
     "base_uri": "https://localhost:8080/"
    },
    "id": "Sn5k0yDIv4mZ",
    "outputId": "6d2dc7ef-4fb7-4896-ea47-99ac59497f15",
    "pycharm": {
     "name": "#%%\n"
    }
   },
   "outputs": [
    {
     "name": "stdout",
     "output_type": "stream",
     "text": [
      "Feature Count: 30\n",
      "'mean area' > 700: 171\n",
      "Malignant 212\n",
      "Benign 357\n"
     ]
    }
   ],
   "source": [
    "# Feature Count in Dataset\n",
    "feature_count = df.count(axis='columns')[0] - 1 # excluding the 'target'\n",
    "print('Feature Count:', feature_count)\n",
    "# 'mean area' > 700\n",
    "mean_area_ab700 = (df['mean area'] > 700).sum()\n",
    "print(\"'mean area' > 700:\", mean_area_ab700)\n",
    "# tested Malignant\n",
    "target_mal = df.groupby('target')['mean radius'].count()[0]\n",
    "print('Malignant', target_mal)\n",
    "# tested Benign\n",
    "target_ben = df.groupby('target')['mean radius'].count()[1]\n",
    "print('Benign', target_ben)"
   ]
  },
  {
   "cell_type": "markdown",
   "metadata": {
    "id": "YyqBEQXGq-B0",
    "pycharm": {
     "name": "#%% md\n"
    }
   },
   "source": [
    "### Splitting the data\n",
    "It is best practice to have a training set (from which there is a rotating validation subset) and a test set. Our aim here is to (eventually) obtain the best accuracy we can on the test set (we'll do all our tuning on the training/validation sets, however.) \n",
    "\n",
    "**Split the dataset** into a train and a test set **\"70:30\"**, use **``random_state=0``**. The test set is set aside (untouched) for final evaluation, once hyperparameter optimization is complete. **[0.5]**\n",
    "\n",
    "**Only Split the dataset once within you notebook.** You should not use the `train_test_split` function more than once, regardless of the random state. Keep this in mind for your future projects as well."
   ]
  },
  {
   "cell_type": "code",
   "execution_count": 4,
   "metadata": {
    "id": "A5equ6ied8eg",
    "pycharm": {
     "name": "#%%\n"
    }
   },
   "outputs": [],
   "source": [
    "from sklearn.model_selection import train_test_split\n",
    "\n",
    "# split the data to train:test, 7:3\n",
    "train, test = train_test_split(df, test_size=0.3, random_state=0)\n",
    "# take out the target\n",
    "X_train, y_train = train.drop('target', axis=1), train['target']\n",
    "X_test, y_test = test.drop('target', axis=1), test['target']"
   ]
  },
  {
   "cell_type": "markdown",
   "metadata": {
    "id": "U_jNtkfce9Eg",
    "pycharm": {
     "name": "#%% md\n"
    }
   },
   "source": [
    "### Effect of Standardization (Visual)\n",
    "Use `seaborn.lmplot` ([help here](https://seaborn.pydata.org/generated/seaborn.lmplot.html)) to visualize a few features of the training set. Draw a plot where the x-axis is ``worst smoothness``, the y-axis is ``worst fractal dimension,`` and the color of each datapoint indicates its class.  **[0.5]**\n",
    "\n",
    "Standardizing the data is often critical in machine learning. Show a plot as above, but with two features with very different scales. Standardize the data and plot those features again. What's different? **why do they look similar?** Based on your observation, what is the advantage of standardization? **[0.6]**\n",
    "\n",
    "\n"
   ]
  },
  {
   "cell_type": "code",
   "execution_count": 5,
   "metadata": {
    "colab": {
     "base_uri": "https://localhost:8080/",
     "height": 386
    },
    "id": "J684emSV8mJd",
    "outputId": "7ad04ac0-df74-4400-9590-3f731b8f2fc3",
    "pycharm": {
     "name": "#%%\n"
    }
   },
   "outputs": [
    {
     "data": {
      "image/png": "[encoded data removed]",
      "text/plain": [
       "<Figure size 402.375x360 with 1 Axes>"
      ]
     },
     "metadata": {
      "needs_background": "light"
     },
     "output_type": "display_data"
    }
   ],
   "source": [
    "import seaborn\n",
    "from matplotlib import pyplot as plt\n",
    "\n",
    "# seaborn visualization\n",
    "seaborn.lmplot(data = train, x='worst smoothness', y='worst fractal dimension', hue='target')\n",
    "plt.title(\"'worst smoothness' vs 'worst fractal dimension'\", fontsize = 14)\n",
    "plt.show()"
   ]
  },
  {
   "cell_type": "code",
   "execution_count": 6,
   "metadata": {
    "colab": {
     "base_uri": "https://localhost:8080/",
     "height": 386
    },
    "id": "w-E83Fe0v4mb",
    "outputId": "bc51594b-ac8c-4d56-eaa7-d07212973aba",
    "pycharm": {
     "name": "#%%\n"
    }
   },
   "outputs": [
    {
     "data": {
      "image/png": "[encoded data removed]",
      "text/plain": [
       "<Figure size 402.375x360 with 1 Axes>"
      ]
     },
     "metadata": {
      "needs_background": "light"
     },
     "output_type": "display_data"
    }
   ],
   "source": [
    "# before standardize\n",
    "# plot\n",
    "seaborn.lmplot(data = train, x = 'mean radius', y = 'mean compactness', hue='target')\n",
    "plt.title(\"'mean radius' vs 'mean compactness' before standardize\", fontsize = 14)\n",
    "plt.show()"
   ]
  },
  {
   "cell_type": "code",
   "execution_count": 7,
   "metadata": {
    "pycharm": {
     "name": "#%%\n"
    }
   },
   "outputs": [
    {
     "data": {
      "image/png": "[encoded data removed]",
      "text/plain": [
       "<Figure size 402.375x360 with 1 Axes>"
      ]
     },
     "metadata": {
      "needs_background": "light"
     },
     "output_type": "display_data"
    },
    {
     "data": {
      "image/png": "[encoded data removed]",
      "text/plain": [
       "<Figure size 402.375x360 with 1 Axes>"
      ]
     },
     "metadata": {
      "needs_background": "light"
     },
     "output_type": "display_data"
    }
   ],
   "source": [
    "# standardized\n",
    "standardized_train = (train-train.mean())/train.std()\n",
    "# keep the 'target' still 0s and 1s\n",
    "standardized_train['target'] = y_train\n",
    "# seaborn visualization\n",
    "seaborn.lmplot(data = standardized_train, x='worst smoothness', y='worst fractal dimension', hue='target')\n",
    "plt.title(\"'worst smoothness' vs 'worst fractal dimension'\", fontsize = 14)\n",
    "plt.show()\n",
    "# plot\n",
    "seaborn.lmplot(data = standardized_train, x = 'mean radius', y = 'mean compactness', hue='target')\n",
    "plt.title(\"'mean radius' vs 'mean compactness' after standardize\", fontsize = 14)\n",
    "plt.show()"
   ]
  },
  {
   "cell_type": "markdown",
   "metadata": {
    "pycharm": {
     "name": "#%% md\n"
    }
   },
   "source": [
    "### Answer:\n",
    "1. The scales on x-axis and y-axis are different from original, used to be 0.00\\~0.35 and 5\\~30, and now are -2 to 4.\n",
    "2. They look similar because standardization will not affect the overall distribution shape(the scale for every individual feature based on its original distribution). It will only make all the scales be unified.\n",
    "3. The advantage of doing standardization is to reduce the bias caused by the original scale of data, since KNN is scale sensitive and all features are in the same scale after standardizing."
   ]
  },
  {
   "cell_type": "markdown",
   "metadata": {
    "pycharm": {
     "name": "#%% md\n"
    }
   },
   "source": [
    "## Part 2: KNN Classifier without Standardization [2 Marks]\n",
    "Normally, standardizing data is a key step in preparing data for a KNN classifier. However, for educational purposes, let's first try to build a model without standardization. Let's create a KNN classifier to predict whether a patient has a malignant or benign tumor. \n",
    "\n",
    "Follow these steps: \n",
    "\n",
    "1.   Train a KNN Classifier using cross-validation on the dataset. Sweep `k` (number of neighbours) from 1 to 100, and show a plot of the mean cross-validation accuracy vs `k`. **[1]**\n",
    "2.   What is the best `k`? What is the highest cross-validation accu? **[0.5]**\n",
    "3. Comment on  which ranges of `k` lead to under-fitted or over-fitted models (hint: compare training and validation curves!). **[0.5]**\n",
    "\n",
    "\n"
   ]
  },
  {
   "cell_type": "code",
   "execution_count": 8,
   "metadata": {
    "pycharm": {
     "name": "#%%\n"
    }
   },
   "outputs": [],
   "source": [
    "from sklearn.neighbors import KNeighborsClassifier\n",
    "from sklearn.model_selection import cross_validate\n",
    "from matplotlib import pyplot as plt\n",
    "\n",
    "# create lists to store results\n",
    "accu_list_train = []\n",
    "accu_list_test = []\n",
    "# loop for CV scores(train and test) with different k\n",
    "for k in range(1, 101):\n",
    "  knn_model = KNeighborsClassifier(n_neighbors=k)\n",
    "  scores = cross_validate(knn_model, X_train, y_train, cv=5, return_train_score=True)\n",
    "  accu_list_train.append(scores['train_score'].mean())\n",
    "  accu_list_test.append(scores['test_score'].mean())"
   ]
  },
  {
   "cell_type": "code",
   "execution_count": 9,
   "metadata": {
    "pycharm": {
     "name": "#%%\n"
    }
   },
   "outputs": [
    {
     "data": {
      "image/png": "[encoded data removed]",
      "text/plain": [
       "<Figure size 432x288 with 1 Axes>"
      ]
     },
     "metadata": {
      "needs_background": "light"
     },
     "output_type": "display_data"
    }
   ],
   "source": [
    "# plot\n",
    "plt.plot(range(1, 101), accu_list_train, label = 'train')\n",
    "plt.plot(range(1, 101), accu_list_test, label = 'test')\n",
    "plt.xlabel('neighbor count: k')\n",
    "plt.ylabel('cross validation accuracy')\n",
    "plt.title(\"'mean cross-validation accuracy' vs 'k'\", fontsize = 14)\n",
    "plt.legend()\n",
    "plt.show()"
   ]
  },
  {
   "cell_type": "code",
   "execution_count": 10,
   "metadata": {
    "pycharm": {
     "name": "#%%\n"
    }
   },
   "outputs": [
    {
     "name": "stdout",
     "output_type": "stream",
     "text": [
      "Highest CV scores: 0.9346518987341772 at k = 10\n"
     ]
    }
   ],
   "source": [
    "print('Highest CV scores:', max(accu_list_test), 'at k =', accu_list_test.index(max(accu_list_test)) + 1)"
   ]
  },
  {
   "cell_type": "markdown",
   "metadata": {
    "pycharm": {
     "name": "#%% md\n"
    }
   },
   "source": [
    "#### Answer:\n",
    "1. The best k should be 10, because of the cross validation result is maximized at 93.47%.\n",
    "2. The model is over-fitted at k=\\[1,10) and is under-fitted at k=(20,100\\], because before 10, the train curve is extremely high while the test result is not good enough. After 20, both training and testing drop slowly and show the loss of model complexity. In the range 10 to 20, the model performance is good and 10 is the best k regrading the CV result(testing) and 20 is the elbow point on training curve."
   ]
  },
  {
   "cell_type": "markdown",
   "metadata": {
    "pycharm": {
     "name": "#%% md\n"
    }
   },
   "source": [
    "## Part 3: Feature Selection [3 Marks]\n",
    "In this part, we aim to investigate the importance of each feature on the final classification accuracy. \n",
    "If we want to try every possible combination of features, we would have to test  $2^F$ different cases,  where F is the number of features, and in each case, we have to do a hyperparameter search (finding K, in KNN using cross-validation). That will take days!. \n",
    "\n",
    "To find more important features we will use a decision tree. based on a decision tree we can compute feature importance that is a metric for our feature selection (code is provided below).\n",
    "\n",
    "You can use [this link](https://machinelearningmastery.com/calculate-feature-importance-with-python/\n",
    ") to get familiar with extracting the feature importance order of machine learning algorithms in Python.\n",
    "\n",
    "After we identified and removed the least important feature and evaluated a new KNN model on the new set of features, if the stop conditions (see step 7 below) are not met, we need to repeat the process and remove another feature.\n",
    "\n",
    "\n",
    "Design a function ( `Feature_selector`) that accepts your dataset (X_train , y_train) and a threshold as inputs and: **[1]**\n",
    "1. Fits a decision tree classifier on the training set.\n",
    "\n",
    "2. Extracts the feature importance order of the decision tree model.\n",
    "\n",
    "3. Removes the least important feature based on step 2. \n",
    "4. Then, a KNN model is trained on the remaining features. The number of neighbors (`k`) for each KNN model should be tuned using a 5-fold cross-validation.\n",
    "5. Store the best `mean cross-validation` score and the corresponding `k` (number of neighbours) value in two lists.\n",
    "6. Go back to step 3 and follow all the steps until you meet the stop condition (step 7). \n",
    " \n",
    "7. We will stop this process when (1) there is only one feature left, or (2) our cross-validation accuracy is dropped significantly compared to a model that uses all the features. In this function, we accept a threshold as an input argument. For example, if threshold=0.95 we do not continue removing features if our mean cross-validation accuracy after tuning `k` is bellow **0.95 $\\times$ Full Feature cross-validation accuracy**.\n",
    "\n",
    "8. Your function returns the list of removed features, and the corresponding mean cross-validation accuracy and `k` value when a feature was removed.\n",
    "\n",
    "* Visualize your results by plotting the mean cross-validation accuracy (with a tuned `k` on y-axis) vs. the on the number of features (x-axis). This plot describes: what is the best cv score with 1 feature, 2 features, 3 features ... and all the features. **[0.5]**\n",
    "\n",
    "* Plot the best value of `k` (y-axis) vs. the number of features. This plot explains the trend of number of neighbours with respect to the number of features.  **[0.5]**\n",
    "\n",
    "* State what is the number of essential features for classification and justify your answer. **[1]**\n",
    "  \n",
    "  \n",
    "\n",
    "\n",
    "\n",
    "\n",
    "\n",
    "\n",
    "\n"
   ]
  },
  {
   "cell_type": "markdown",
   "metadata": {
    "pycharm": {
     "name": "#%% md\n"
    }
   },
   "source": [
    "You can use the following piece of code to start training a decision tree classifier and obtain its feature importance order. \n",
    "```\n",
    "from sklearn import tree\n",
    "dt = tree.DecisionTreeClassifier()\n",
    "dt.fit(X_train,y_train)\n",
    "importance = dt.feature_importances_\n",
    "```\n"
   ]
  },
  {
   "cell_type": "code",
   "execution_count": 11,
   "metadata": {
    "pycharm": {
     "name": "#%%\n"
    }
   },
   "outputs": [],
   "source": [
    "def Feature_selector (x_train_mat, y_train_arr, tr=0.95):\n",
    "  # Model Prepare\n",
    "  # get the tree model\n",
    "  from sklearn import tree\n",
    "  dt = tree.DecisionTreeClassifier(random_state=7)\n",
    "  # plug data into dataframe to have the corresponding feature name\n",
    "  x_train_mat = pd.DataFrame(data=x_train_mat, columns=dataset.feature_names.tolist())\n",
    "  # fit the model and gain the 'importance' with every feature\n",
    "  dt.fit(x_train_mat, y_train_arr)\n",
    "  # name and sort the feature weight column as 'score'\n",
    "  importance = pd.DataFrame(data=dt.feature_importances_, index=dataset.feature_names, columns=['score'])\n",
    "  importance = importance.sort_values(by='score', ascending=True)\n",
    "  \n",
    "  # Initialization\n",
    "  # k range of KNN\n",
    "  k_range = list(range(1,101))\n",
    "  # store all k when getting the highest cv in that iteration, initialize with full model's best k=10\n",
    "  best_knn_k = [10]\n",
    "  # store all removed features, initialize with full model\n",
    "  removed_feat = ['']\n",
    "  # the cv_score with all features\n",
    "  full_feat_cv_score = max([cross_validate(KNeighborsClassifier(n_neighbors=10), x_train_mat[importance.index],\n",
    "                                           y_train_arr, cv=5, return_train_score=True)['test_score'].mean()])\n",
    "  # initialize a list to store all knn scores, set the value first input as the best full KNN model\n",
    "  best_knn_scores = [full_feat_cv_score]\n",
    "\n",
    "  # Looping\n",
    "  # keep going when there is a feature and model have good performance\n",
    "  while len(importance) > 1 and best_knn_scores[-1] > tr*full_feat_cv_score:\n",
    "    # extract the removed feature and use the rest\n",
    "    removed_feat.append(importance.iloc[0].name)\n",
    "    importance = importance.iloc[1:, :]\n",
    "    # create list to store score for this feature set\n",
    "    knn_nb_scores = []\n",
    "    # for-loop for different k, append the average of CV scores in the test set\n",
    "    for n in k_range:\n",
    "      knn_model_ = KNeighborsClassifier(n_neighbors=n)\n",
    "      scores_ = cross_validate(knn_model_, x_train_mat[importance.index], y_train_arr, cv=5, return_train_score=True)\n",
    "      knn_nb_scores.append(scores_['test_score'].mean())\n",
    "    # save the highest CV score and the best k for this feature set\n",
    "    best_knn_scores.append(max(knn_nb_scores))\n",
    "    best_knn_k.append(knn_nb_scores.index(max(knn_nb_scores)) + 1)\n",
    "\n",
    "  # Create the output list, and reshape the list\n",
    "  func = lambda a, b, c, p: (a[p], b[p], c[p])\n",
    "  output = [func(removed_feat, best_knn_k, best_knn_scores, z) for z in range(len(removed_feat))]\n",
    "  return output # keep feature in columns"
   ]
  },
  {
   "cell_type": "code",
   "execution_count": 12,
   "metadata": {
    "pycharm": {
     "name": "#%%\n"
    }
   },
   "outputs": [
    {
     "data": {
      "text/plain": [
       "[('', 10, 0.9346518987341772),\n",
       " ('mean radius', 10, 0.9346518987341772),\n",
       " ('worst compactness', 10, 0.9346518987341772),\n",
       " ('worst smoothness', 10, 0.9346518987341772),\n",
       " ('worst area', 1, 0.922120253164557),\n",
       " ('symmetry error', 1, 0.922120253164557),\n",
       " ('concave points error', 1, 0.922120253164557),\n",
       " ('concavity error', 1, 0.922120253164557),\n",
       " ('compactness error', 1, 0.922120253164557),\n",
       " ('perimeter error', 1, 0.9195886075949368),\n",
       " ('texture error', 1, 0.9195886075949368),\n",
       " ('worst fractal dimension', 1, 0.9195886075949368),\n",
       " ('mean perimeter', 1, 0.919620253164557),\n",
       " ('mean area', 20, 0.9347468354430379),\n",
       " ('mean concave points', 20, 0.9347468354430379),\n",
       " ('mean concavity', 20, 0.9347468354430379),\n",
       " ('mean compactness', 20, 0.9347468354430379),\n",
       " ('mean smoothness', 20, 0.9347468354430379),\n",
       " ('smoothness error', 20, 0.9347468354430379),\n",
       " ('radius error', 20, 0.9347468354430379),\n",
       " ('fractal dimension error', 20, 0.9347468354430379),\n",
       " ('worst perimeter', 12, 0.9046835443037976),\n",
       " ('worst texture', 5, 0.9120886075949368),\n",
       " ('mean fractal dimension', 5, 0.9120886075949368),\n",
       " ('mean texture', 3, 0.9094620253164557),\n",
       " ('mean symmetry', 3, 0.9094620253164557),\n",
       " ('worst symmetry', 3, 0.911993670886076),\n",
       " ('worst concavity', 3, 0.8993670886075948),\n",
       " ('area error', 38, 0.9120569620253164),\n",
       " ('worst radius', 34, 0.9246202531645569)]"
      ]
     },
     "execution_count": 12,
     "metadata": {},
     "output_type": "execute_result"
    }
   ],
   "source": [
    "# run with original train data\n",
    "out = Feature_selector(X_train, y_train)\n",
    "out"
   ]
  },
  {
   "cell_type": "code",
   "execution_count": 13,
   "metadata": {
    "pycharm": {
     "name": "#%%\n"
    }
   },
   "outputs": [
    {
     "data": {
      "text/html": [
       "<div>\n",
       "<style scoped>\n",
       "    .dataframe tbody tr th:only-of-type {\n",
       "        vertical-align: middle;\n",
       "    }\n",
       "\n",
       "    .dataframe tbody tr th {\n",
       "        vertical-align: top;\n",
       "    }\n",
       "\n",
       "    .dataframe thead th {\n",
       "        text-align: right;\n",
       "    }\n",
       "</style>\n",
       "<table border=\"1\" class=\"dataframe\">\n",
       "  <thead>\n",
       "    <tr style=\"text-align: right;\">\n",
       "      <th></th>\n",
       "      <th>Removed Feature</th>\n",
       "      <th>KNN Neighbor Count</th>\n",
       "      <th>KNN Accuracy</th>\n",
       "    </tr>\n",
       "  </thead>\n",
       "  <tbody>\n",
       "    <tr>\n",
       "      <th>0</th>\n",
       "      <td></td>\n",
       "      <td>10</td>\n",
       "      <td>0.934652</td>\n",
       "    </tr>\n",
       "    <tr>\n",
       "      <th>1</th>\n",
       "      <td>mean radius</td>\n",
       "      <td>10</td>\n",
       "      <td>0.934652</td>\n",
       "    </tr>\n",
       "    <tr>\n",
       "      <th>2</th>\n",
       "      <td>worst compactness</td>\n",
       "      <td>10</td>\n",
       "      <td>0.934652</td>\n",
       "    </tr>\n",
       "    <tr>\n",
       "      <th>3</th>\n",
       "      <td>worst smoothness</td>\n",
       "      <td>10</td>\n",
       "      <td>0.934652</td>\n",
       "    </tr>\n",
       "    <tr>\n",
       "      <th>4</th>\n",
       "      <td>worst area</td>\n",
       "      <td>1</td>\n",
       "      <td>0.922120</td>\n",
       "    </tr>\n",
       "    <tr>\n",
       "      <th>5</th>\n",
       "      <td>symmetry error</td>\n",
       "      <td>1</td>\n",
       "      <td>0.922120</td>\n",
       "    </tr>\n",
       "    <tr>\n",
       "      <th>6</th>\n",
       "      <td>concave points error</td>\n",
       "      <td>1</td>\n",
       "      <td>0.922120</td>\n",
       "    </tr>\n",
       "    <tr>\n",
       "      <th>7</th>\n",
       "      <td>concavity error</td>\n",
       "      <td>1</td>\n",
       "      <td>0.922120</td>\n",
       "    </tr>\n",
       "    <tr>\n",
       "      <th>8</th>\n",
       "      <td>compactness error</td>\n",
       "      <td>1</td>\n",
       "      <td>0.922120</td>\n",
       "    </tr>\n",
       "    <tr>\n",
       "      <th>9</th>\n",
       "      <td>perimeter error</td>\n",
       "      <td>1</td>\n",
       "      <td>0.919589</td>\n",
       "    </tr>\n",
       "    <tr>\n",
       "      <th>10</th>\n",
       "      <td>texture error</td>\n",
       "      <td>1</td>\n",
       "      <td>0.919589</td>\n",
       "    </tr>\n",
       "    <tr>\n",
       "      <th>11</th>\n",
       "      <td>worst fractal dimension</td>\n",
       "      <td>1</td>\n",
       "      <td>0.919589</td>\n",
       "    </tr>\n",
       "    <tr>\n",
       "      <th>12</th>\n",
       "      <td>mean perimeter</td>\n",
       "      <td>1</td>\n",
       "      <td>0.919620</td>\n",
       "    </tr>\n",
       "    <tr>\n",
       "      <th>13</th>\n",
       "      <td>mean area</td>\n",
       "      <td>20</td>\n",
       "      <td>0.934747</td>\n",
       "    </tr>\n",
       "    <tr>\n",
       "      <th>14</th>\n",
       "      <td>mean concave points</td>\n",
       "      <td>20</td>\n",
       "      <td>0.934747</td>\n",
       "    </tr>\n",
       "    <tr>\n",
       "      <th>15</th>\n",
       "      <td>mean concavity</td>\n",
       "      <td>20</td>\n",
       "      <td>0.934747</td>\n",
       "    </tr>\n",
       "    <tr>\n",
       "      <th>16</th>\n",
       "      <td>mean compactness</td>\n",
       "      <td>20</td>\n",
       "      <td>0.934747</td>\n",
       "    </tr>\n",
       "    <tr>\n",
       "      <th>17</th>\n",
       "      <td>mean smoothness</td>\n",
       "      <td>20</td>\n",
       "      <td>0.934747</td>\n",
       "    </tr>\n",
       "    <tr>\n",
       "      <th>18</th>\n",
       "      <td>smoothness error</td>\n",
       "      <td>20</td>\n",
       "      <td>0.934747</td>\n",
       "    </tr>\n",
       "    <tr>\n",
       "      <th>19</th>\n",
       "      <td>radius error</td>\n",
       "      <td>20</td>\n",
       "      <td>0.934747</td>\n",
       "    </tr>\n",
       "    <tr>\n",
       "      <th>20</th>\n",
       "      <td>fractal dimension error</td>\n",
       "      <td>20</td>\n",
       "      <td>0.934747</td>\n",
       "    </tr>\n",
       "    <tr>\n",
       "      <th>21</th>\n",
       "      <td>worst perimeter</td>\n",
       "      <td>12</td>\n",
       "      <td>0.904684</td>\n",
       "    </tr>\n",
       "    <tr>\n",
       "      <th>22</th>\n",
       "      <td>worst texture</td>\n",
       "      <td>5</td>\n",
       "      <td>0.912089</td>\n",
       "    </tr>\n",
       "    <tr>\n",
       "      <th>23</th>\n",
       "      <td>mean fractal dimension</td>\n",
       "      <td>5</td>\n",
       "      <td>0.912089</td>\n",
       "    </tr>\n",
       "    <tr>\n",
       "      <th>24</th>\n",
       "      <td>mean texture</td>\n",
       "      <td>3</td>\n",
       "      <td>0.909462</td>\n",
       "    </tr>\n",
       "    <tr>\n",
       "      <th>25</th>\n",
       "      <td>mean symmetry</td>\n",
       "      <td>3</td>\n",
       "      <td>0.909462</td>\n",
       "    </tr>\n",
       "    <tr>\n",
       "      <th>26</th>\n",
       "      <td>worst symmetry</td>\n",
       "      <td>3</td>\n",
       "      <td>0.911994</td>\n",
       "    </tr>\n",
       "    <tr>\n",
       "      <th>27</th>\n",
       "      <td>worst concavity</td>\n",
       "      <td>3</td>\n",
       "      <td>0.899367</td>\n",
       "    </tr>\n",
       "    <tr>\n",
       "      <th>28</th>\n",
       "      <td>area error</td>\n",
       "      <td>38</td>\n",
       "      <td>0.912057</td>\n",
       "    </tr>\n",
       "    <tr>\n",
       "      <th>29</th>\n",
       "      <td>worst radius</td>\n",
       "      <td>34</td>\n",
       "      <td>0.924620</td>\n",
       "    </tr>\n",
       "  </tbody>\n",
       "</table>\n",
       "</div>"
      ],
      "text/plain": [
       "            Removed Feature  KNN Neighbor Count  KNN Accuracy\n",
       "0                                            10      0.934652\n",
       "1               mean radius                  10      0.934652\n",
       "2         worst compactness                  10      0.934652\n",
       "3          worst smoothness                  10      0.934652\n",
       "4                worst area                   1      0.922120\n",
       "5            symmetry error                   1      0.922120\n",
       "6      concave points error                   1      0.922120\n",
       "7           concavity error                   1      0.922120\n",
       "8         compactness error                   1      0.922120\n",
       "9           perimeter error                   1      0.919589\n",
       "10            texture error                   1      0.919589\n",
       "11  worst fractal dimension                   1      0.919589\n",
       "12           mean perimeter                   1      0.919620\n",
       "13                mean area                  20      0.934747\n",
       "14      mean concave points                  20      0.934747\n",
       "15           mean concavity                  20      0.934747\n",
       "16         mean compactness                  20      0.934747\n",
       "17          mean smoothness                  20      0.934747\n",
       "18         smoothness error                  20      0.934747\n",
       "19             radius error                  20      0.934747\n",
       "20  fractal dimension error                  20      0.934747\n",
       "21          worst perimeter                  12      0.904684\n",
       "22            worst texture                   5      0.912089\n",
       "23   mean fractal dimension                   5      0.912089\n",
       "24             mean texture                   3      0.909462\n",
       "25            mean symmetry                   3      0.909462\n",
       "26           worst symmetry                   3      0.911994\n",
       "27          worst concavity                   3      0.899367\n",
       "28               area error                  38      0.912057\n",
       "29             worst radius                  34      0.924620"
      ]
     },
     "execution_count": 13,
     "metadata": {},
     "output_type": "execute_result"
    }
   ],
   "source": [
    "# convert to dataframe\n",
    "out = pd.DataFrame(out, columns=['Removed Feature', 'KNN Neighbor Count', 'KNN Accuracy'])\n",
    "out"
   ]
  },
  {
   "cell_type": "code",
   "execution_count": 14,
   "metadata": {
    "pycharm": {
     "name": "#%%\n"
    }
   },
   "outputs": [
    {
     "data": {
      "image/png": "[encoded data removed]",
      "text/plain": [
       "<Figure size 432x288 with 1 Axes>"
      ]
     },
     "metadata": {
      "needs_background": "light"
     },
     "output_type": "display_data"
    }
   ],
   "source": [
    "# visualize 'mean cross-validation accuracy' vs 'number of feature'\n",
    "num_feat = list(range(30,0,-1))\n",
    "\n",
    "plt.plot(num_feat, out['KNN Accuracy'])\n",
    "plt.xlabel('number of feature')\n",
    "plt.ylabel('cross validation accuracy')\n",
    "plt.title(\"'mean cross-validation accuracy' vs 'number of feature'\", fontsize = 14)\n",
    "plt.show()"
   ]
  },
  {
   "cell_type": "code",
   "execution_count": 15,
   "metadata": {
    "pycharm": {
     "name": "#%%\n"
    }
   },
   "outputs": [
    {
     "data": {
      "image/png": "[encoded data removed]",
      "text/plain": [
       "<Figure size 432x288 with 1 Axes>"
      ]
     },
     "metadata": {
      "needs_background": "light"
     },
     "output_type": "display_data"
    }
   ],
   "source": [
    "# visualize 'mean cross-validation accuracy' vs 'number of feature'\n",
    "plt.plot(num_feat, out['KNN Neighbor Count'])\n",
    "plt.xlabel('number of feature')\n",
    "plt.ylabel('neighbor count: k')\n",
    "plt.title(\"'mean cross-validation accuracy' vs 'number of feature'\", fontsize = 14)\n",
    "plt.show()"
   ]
  },
  {
   "cell_type": "code",
   "execution_count": 16,
   "metadata": {
    "pycharm": {
     "name": "#%%\n"
    }
   },
   "outputs": [
    {
     "data": {
      "text/plain": [
       "['', 'worst concave points']"
      ]
     },
     "execution_count": 16,
     "metadata": {},
     "output_type": "execute_result"
    }
   ],
   "source": [
    "removed_importance_nsd = out['Removed Feature'].tolist()\n",
    "selected_importance_nsd = list(set(dataset.feature_names.tolist()).symmetric_difference(set(removed_importance_nsd)))\n",
    "selected_importance_nsd"
   ]
  },
  {
   "cell_type": "markdown",
   "metadata": {
    "pycharm": {
     "name": "#%% md\n"
    }
   },
   "source": [
    "#### Answer:\n",
    "The essential feature is 'worst concave points', so the number is 1. Since it is always the last feature that is kept by the feature selector and the accuracy still remains around 92%. And judging by the two plots above, we can also see, there is at least one feature remaining (both 'number of feature's are starting at 1).\n",
    "However, considering the CV accuracy result, the number of essential features should be around 10 if we want to maintain the highest CV accuracy. "
   ]
  },
  {
   "cell_type": "markdown",
   "metadata": {
    "pycharm": {
     "name": "#%% md\n"
    }
   },
   "source": [
    "## Part 4: Standardization [1 Marks]\n",
    "\n",
    "Standardizing the data usually means scaling our data to have a mean of zero and a standard deviation of one. \n",
    "\n",
    "**Note:** When we standardize a dataset, do we care if the data points are in our training set or test set? Yes! The training set is available for us to train a model - we can use it however we want. The test set, however, represents a subset of data that is not available for us during training. For example, the test set can represent the data that someone who bought our model would use to see how the model performs (which they are not willing to share with us).\n",
    "Therefore, we cannot compute the mean or standard deviation of the whole dataset to standardize it - we can only calculate the mean and standard deviation of the training set. However, when we sell a model to someone, we can say what our scalars (mean and standard deviation of our training set) was. They can scale their data (test set) with our training set's mean and standard deviation. Of course, there is no guarantee that the test set would have a mean of zero and a standard deviation of one, but it should work fine.\n",
    "\n",
    "**To summarize: We fit the StandardScaler only on the training set. We transform both training and test sets with that scaler.**\n",
    "\n",
    "1. Standardize the training  and test data ([Help](https://scikit-learn.org/stable/modules/preprocessing.html)) \n",
    "\n",
    "2. Call your ``Feature_selector`` function on the standardized training data with a threshold of 95\\%. \n",
    " * Plot the Cross validation accuracy when we have the standardized data (this part) and the original training data (last part) vs. the Number of features in a single plot (to compare them easily).\n",
    "\n",
    "3. Discuss how standardization (helped/hurt) your model and its performance? Discuss which cases lead to a higher cross validation accuracy (how many features? which features? What K?)\n"
   ]
  },
  {
   "cell_type": "code",
   "execution_count": 17,
   "metadata": {
    "pycharm": {
     "name": "#%%\n"
    }
   },
   "outputs": [
    {
     "data": {
      "text/plain": [
       "[('', 10, 0.9674367088607594),\n",
       " ('mean radius', 8, 0.9649683544303798),\n",
       " ('worst compactness', 8, 0.9699683544303797),\n",
       " ('worst smoothness', 12, 0.9674683544303797),\n",
       " ('worst area', 12, 0.9649367088607596),\n",
       " ('symmetry error', 5, 0.9649050632911391),\n",
       " ('concave points error', 12, 0.9649367088607596),\n",
       " ('concavity error', 5, 0.9674050632911392),\n",
       " ('compactness error', 5, 0.9699367088607594),\n",
       " ('perimeter error', 5, 0.9674050632911392),\n",
       " ('texture error', 5, 0.9674367088607594),\n",
       " ('worst fractal dimension', 6, 0.9674367088607594),\n",
       " ('mean perimeter', 12, 0.9649367088607594),\n",
       " ('mean area', 16, 0.9649683544303798),\n",
       " ('mean concave points', 5, 0.9674050632911392),\n",
       " ('mean concavity', 5, 0.9674050632911392),\n",
       " ('mean compactness', 5, 0.9674367088607594),\n",
       " ('mean smoothness', 16, 0.9674367088607594),\n",
       " ('smoothness error', 20, 0.9724367088607595),\n",
       " ('radius error', 16, 0.9699683544303797),\n",
       " ('fractal dimension error', 18, 0.9699050632911392),\n",
       " ('worst perimeter', 6, 0.9649050632911391),\n",
       " ('worst texture', 22, 0.9674683544303797),\n",
       " ('mean fractal dimension', 9, 0.9649367088607594),\n",
       " ('mean texture', 20, 0.9548417721518987),\n",
       " ('mean symmetry', 28, 0.9598734177215189),\n",
       " ('worst symmetry', 33, 0.959873417721519),\n",
       " ('worst concavity', 5, 0.959746835443038),\n",
       " ('area error', 80, 0.9472468354430379),\n",
       " ('worst radius', 34, 0.9246202531645569)]"
      ]
     },
     "execution_count": 17,
     "metadata": {},
     "output_type": "execute_result"
    }
   ],
   "source": [
    "# standardize the data\n",
    "from sklearn.preprocessing import StandardScaler\n",
    "\n",
    "scale = StandardScaler()\n",
    "X_train_sd, X_test_sd =  scale.fit_transform(X_train), scale.transform(X_test)\n",
    "# see the feature selection for standardized train\n",
    "out_sd = Feature_selector(X_train_sd, y_train)\n",
    "out_sd"
   ]
  },
  {
   "cell_type": "code",
   "execution_count": 18,
   "metadata": {
    "pycharm": {
     "name": "#%%\n"
    }
   },
   "outputs": [
    {
     "data": {
      "text/html": [
       "<div>\n",
       "<style scoped>\n",
       "    .dataframe tbody tr th:only-of-type {\n",
       "        vertical-align: middle;\n",
       "    }\n",
       "\n",
       "    .dataframe tbody tr th {\n",
       "        vertical-align: top;\n",
       "    }\n",
       "\n",
       "    .dataframe thead th {\n",
       "        text-align: right;\n",
       "    }\n",
       "</style>\n",
       "<table border=\"1\" class=\"dataframe\">\n",
       "  <thead>\n",
       "    <tr style=\"text-align: right;\">\n",
       "      <th></th>\n",
       "      <th>Removed Feature</th>\n",
       "      <th>KNN Neighbor Count</th>\n",
       "      <th>KNN Accuracy</th>\n",
       "    </tr>\n",
       "  </thead>\n",
       "  <tbody>\n",
       "    <tr>\n",
       "      <th>0</th>\n",
       "      <td></td>\n",
       "      <td>10</td>\n",
       "      <td>0.967437</td>\n",
       "    </tr>\n",
       "    <tr>\n",
       "      <th>1</th>\n",
       "      <td>mean radius</td>\n",
       "      <td>8</td>\n",
       "      <td>0.964968</td>\n",
       "    </tr>\n",
       "    <tr>\n",
       "      <th>2</th>\n",
       "      <td>worst compactness</td>\n",
       "      <td>8</td>\n",
       "      <td>0.969968</td>\n",
       "    </tr>\n",
       "    <tr>\n",
       "      <th>3</th>\n",
       "      <td>worst smoothness</td>\n",
       "      <td>12</td>\n",
       "      <td>0.967468</td>\n",
       "    </tr>\n",
       "    <tr>\n",
       "      <th>4</th>\n",
       "      <td>worst area</td>\n",
       "      <td>12</td>\n",
       "      <td>0.964937</td>\n",
       "    </tr>\n",
       "    <tr>\n",
       "      <th>5</th>\n",
       "      <td>symmetry error</td>\n",
       "      <td>5</td>\n",
       "      <td>0.964905</td>\n",
       "    </tr>\n",
       "    <tr>\n",
       "      <th>6</th>\n",
       "      <td>concave points error</td>\n",
       "      <td>12</td>\n",
       "      <td>0.964937</td>\n",
       "    </tr>\n",
       "    <tr>\n",
       "      <th>7</th>\n",
       "      <td>concavity error</td>\n",
       "      <td>5</td>\n",
       "      <td>0.967405</td>\n",
       "    </tr>\n",
       "    <tr>\n",
       "      <th>8</th>\n",
       "      <td>compactness error</td>\n",
       "      <td>5</td>\n",
       "      <td>0.969937</td>\n",
       "    </tr>\n",
       "    <tr>\n",
       "      <th>9</th>\n",
       "      <td>perimeter error</td>\n",
       "      <td>5</td>\n",
       "      <td>0.967405</td>\n",
       "    </tr>\n",
       "    <tr>\n",
       "      <th>10</th>\n",
       "      <td>texture error</td>\n",
       "      <td>5</td>\n",
       "      <td>0.967437</td>\n",
       "    </tr>\n",
       "    <tr>\n",
       "      <th>11</th>\n",
       "      <td>worst fractal dimension</td>\n",
       "      <td>6</td>\n",
       "      <td>0.967437</td>\n",
       "    </tr>\n",
       "    <tr>\n",
       "      <th>12</th>\n",
       "      <td>mean perimeter</td>\n",
       "      <td>12</td>\n",
       "      <td>0.964937</td>\n",
       "    </tr>\n",
       "    <tr>\n",
       "      <th>13</th>\n",
       "      <td>mean area</td>\n",
       "      <td>16</td>\n",
       "      <td>0.964968</td>\n",
       "    </tr>\n",
       "    <tr>\n",
       "      <th>14</th>\n",
       "      <td>mean concave points</td>\n",
       "      <td>5</td>\n",
       "      <td>0.967405</td>\n",
       "    </tr>\n",
       "    <tr>\n",
       "      <th>15</th>\n",
       "      <td>mean concavity</td>\n",
       "      <td>5</td>\n",
       "      <td>0.967405</td>\n",
       "    </tr>\n",
       "    <tr>\n",
       "      <th>16</th>\n",
       "      <td>mean compactness</td>\n",
       "      <td>5</td>\n",
       "      <td>0.967437</td>\n",
       "    </tr>\n",
       "    <tr>\n",
       "      <th>17</th>\n",
       "      <td>mean smoothness</td>\n",
       "      <td>16</td>\n",
       "      <td>0.967437</td>\n",
       "    </tr>\n",
       "    <tr>\n",
       "      <th>18</th>\n",
       "      <td>smoothness error</td>\n",
       "      <td>20</td>\n",
       "      <td>0.972437</td>\n",
       "    </tr>\n",
       "    <tr>\n",
       "      <th>19</th>\n",
       "      <td>radius error</td>\n",
       "      <td>16</td>\n",
       "      <td>0.969968</td>\n",
       "    </tr>\n",
       "    <tr>\n",
       "      <th>20</th>\n",
       "      <td>fractal dimension error</td>\n",
       "      <td>18</td>\n",
       "      <td>0.969905</td>\n",
       "    </tr>\n",
       "    <tr>\n",
       "      <th>21</th>\n",
       "      <td>worst perimeter</td>\n",
       "      <td>6</td>\n",
       "      <td>0.964905</td>\n",
       "    </tr>\n",
       "    <tr>\n",
       "      <th>22</th>\n",
       "      <td>worst texture</td>\n",
       "      <td>22</td>\n",
       "      <td>0.967468</td>\n",
       "    </tr>\n",
       "    <tr>\n",
       "      <th>23</th>\n",
       "      <td>mean fractal dimension</td>\n",
       "      <td>9</td>\n",
       "      <td>0.964937</td>\n",
       "    </tr>\n",
       "    <tr>\n",
       "      <th>24</th>\n",
       "      <td>mean texture</td>\n",
       "      <td>20</td>\n",
       "      <td>0.954842</td>\n",
       "    </tr>\n",
       "    <tr>\n",
       "      <th>25</th>\n",
       "      <td>mean symmetry</td>\n",
       "      <td>28</td>\n",
       "      <td>0.959873</td>\n",
       "    </tr>\n",
       "    <tr>\n",
       "      <th>26</th>\n",
       "      <td>worst symmetry</td>\n",
       "      <td>33</td>\n",
       "      <td>0.959873</td>\n",
       "    </tr>\n",
       "    <tr>\n",
       "      <th>27</th>\n",
       "      <td>worst concavity</td>\n",
       "      <td>5</td>\n",
       "      <td>0.959747</td>\n",
       "    </tr>\n",
       "    <tr>\n",
       "      <th>28</th>\n",
       "      <td>area error</td>\n",
       "      <td>80</td>\n",
       "      <td>0.947247</td>\n",
       "    </tr>\n",
       "    <tr>\n",
       "      <th>29</th>\n",
       "      <td>worst radius</td>\n",
       "      <td>34</td>\n",
       "      <td>0.924620</td>\n",
       "    </tr>\n",
       "  </tbody>\n",
       "</table>\n",
       "</div>"
      ],
      "text/plain": [
       "            Removed Feature  KNN Neighbor Count  KNN Accuracy\n",
       "0                                            10      0.967437\n",
       "1               mean radius                   8      0.964968\n",
       "2         worst compactness                   8      0.969968\n",
       "3          worst smoothness                  12      0.967468\n",
       "4                worst area                  12      0.964937\n",
       "5            symmetry error                   5      0.964905\n",
       "6      concave points error                  12      0.964937\n",
       "7           concavity error                   5      0.967405\n",
       "8         compactness error                   5      0.969937\n",
       "9           perimeter error                   5      0.967405\n",
       "10            texture error                   5      0.967437\n",
       "11  worst fractal dimension                   6      0.967437\n",
       "12           mean perimeter                  12      0.964937\n",
       "13                mean area                  16      0.964968\n",
       "14      mean concave points                   5      0.967405\n",
       "15           mean concavity                   5      0.967405\n",
       "16         mean compactness                   5      0.967437\n",
       "17          mean smoothness                  16      0.967437\n",
       "18         smoothness error                  20      0.972437\n",
       "19             radius error                  16      0.969968\n",
       "20  fractal dimension error                  18      0.969905\n",
       "21          worst perimeter                   6      0.964905\n",
       "22            worst texture                  22      0.967468\n",
       "23   mean fractal dimension                   9      0.964937\n",
       "24             mean texture                  20      0.954842\n",
       "25            mean symmetry                  28      0.959873\n",
       "26           worst symmetry                  33      0.959873\n",
       "27          worst concavity                   5      0.959747\n",
       "28               area error                  80      0.947247\n",
       "29             worst radius                  34      0.924620"
      ]
     },
     "execution_count": 18,
     "metadata": {},
     "output_type": "execute_result"
    }
   ],
   "source": [
    "# convert to dataframe\n",
    "out_sd = pd.DataFrame(out_sd, columns=['Removed Feature', 'KNN Neighbor Count', 'KNN Accuracy'])\n",
    "out_sd"
   ]
  },
  {
   "cell_type": "code",
   "execution_count": 19,
   "metadata": {
    "pycharm": {
     "name": "#%%\n"
    }
   },
   "outputs": [
    {
     "data": {
      "text/plain": [
       "Removed Feature       smoothness error\n",
       "KNN Neighbor Count                  20\n",
       "KNN Accuracy                  0.972437\n",
       "Name: 18, dtype: object"
      ]
     },
     "execution_count": 19,
     "metadata": {},
     "output_type": "execute_result"
    }
   ],
   "source": [
    "out_sd.loc[out_sd['KNN Accuracy'].idxmax()]"
   ]
  },
  {
   "cell_type": "code",
   "execution_count": 20,
   "metadata": {
    "pycharm": {
     "name": "#%%\n"
    }
   },
   "outputs": [
    {
     "data": {
      "image/png": "[encoded data removed]",
      "text/plain": [
       "<Figure size 432x288 with 1 Axes>"
      ]
     },
     "metadata": {
      "needs_background": "light"
     },
     "output_type": "display_data"
    },
    {
     "data": {
      "image/png": "[encoded data removed]",
      "text/plain": [
       "<Figure size 432x288 with 1 Axes>"
      ]
     },
     "metadata": {
      "needs_background": "light"
     },
     "output_type": "display_data"
    }
   ],
   "source": [
    "# plot and compare\n",
    "from  matplotlib import pyplot as plt\n",
    "\n",
    "plt.plot(num_feat, out['KNN Accuracy'], label = 'Original')\n",
    "plt.plot(num_feat, out_sd['KNN Accuracy'], label = 'Standardized')\n",
    "plt.ylabel('cross-validation accuracy')\n",
    "plt.xlabel('number of feature')\n",
    "plt.title(\"Standardized vs Original with Feature\", fontsize = 14)\n",
    "plt.legend()\n",
    "plt.show()\n",
    "\n",
    "plt.plot(num_feat, out['KNN Neighbor Count'], label = 'Original')\n",
    "plt.plot(num_feat, out_sd['KNN Neighbor Count'], label = 'Standardized')\n",
    "plt.ylabel('neighbor count:k')\n",
    "plt.xlabel('number of feature')\n",
    "plt.title(\"Standardized vs Original with K\", fontsize = 14)\n",
    "plt.legend()\n",
    "plt.show()"
   ]
  },
  {
   "cell_type": "markdown",
   "metadata": {
    "pycharm": {
     "name": "#%% md\n"
    }
   },
   "source": [
    "#### Answer:\n",
    "- The standardization process definitely helps the model performance by raising up the CV accuracy significantly. By observing the curve difference, we can easily see the standardized accuracies are round 97% and the non-standardized are only 93%. Also the standardized model can gain performance significantly better than the non-standardized at first 10 features.\n",
    "- The max model performance regarding CV accuracy is showed at the second last code cell above. The CV accuracy is close to 97.2% when k=20. \n"
   ]
  },
  {
   "cell_type": "markdown",
   "metadata": {
    "pycharm": {
     "name": "#%% md\n"
    }
   },
   "source": [
    "## Part 5: Decision Tree Classifier [1.5 Mark]\n",
    "\n",
    "Train a decision tree classifier on the standardized dataset (read the [documentation](https://scikit-learn.org/stable/modules/generated/sklearn.tree.DecisionTreeClassifier.html) and check the example there.) Tune the `max_depth` and `min_samples_split` parameters of the tree using cross-validation (CV).\n",
    " * Compare the decision tree's performance (mean CV score) with KNN, both using all the features. \n"
   ]
  },
  {
   "cell_type": "code",
   "execution_count": 21,
   "metadata": {
    "pycharm": {
     "name": "#%%\n"
    }
   },
   "outputs": [],
   "source": [
    "from sklearn.tree import DecisionTreeClassifier\n",
    "from sklearn.model_selection import cross_validate\n",
    "from matplotlib import pyplot as plt"
   ]
  },
  {
   "cell_type": "code",
   "execution_count": 22,
   "metadata": {
    "pycharm": {
     "name": "#%%\n"
    }
   },
   "outputs": [],
   "source": [
    "# create lists to store results of all min_samples_split and max_depth\n",
    "accu_min_split_max_depth = []\n",
    "# double loop for CV scores with different combination\n",
    "for k in range(2, 21):\n",
    "  for j in range(1, 21):\n",
    "    tree_model = DecisionTreeClassifier(min_samples_split=k, max_depth=j, random_state=7)\n",
    "    scores = cross_validate(tree_model, X_train_sd, y_train, cv=5, return_train_score=True)\n",
    "    accu_min_split_max_depth.append((k, j, scores['test_score'].mean()))"
   ]
  },
  {
   "cell_type": "code",
   "execution_count": 23,
   "metadata": {
    "pycharm": {
     "name": "#%%\n"
    }
   },
   "outputs": [
    {
     "data": {
      "text/plain": [
       "(2, 3, 0.9271518987341771)"
      ]
     },
     "execution_count": 23,
     "metadata": {},
     "output_type": "execute_result"
    }
   ],
   "source": [
    "import numpy as np\n",
    "\n",
    "# calculate the max result of CV\n",
    "max_pos = 0\n",
    "max_cv = -np.inf\n",
    "for i in range(len(accu_min_split_max_depth)):\n",
    "  if accu_min_split_max_depth[i][2] > max_cv:\n",
    "    max_cv = accu_min_split_max_depth[i][2]\n",
    "    max_pos = i\n",
    "accu_min_split_max_depth[max_pos]"
   ]
  },
  {
   "cell_type": "code",
   "execution_count": 24,
   "metadata": {
    "pycharm": {
     "name": "#%%\n"
    }
   },
   "outputs": [
    {
     "name": "stdout",
     "output_type": "stream",
     "text": [
      "Tree model CV score: 0.9220886075949366\n",
      "KNN model CV score: 0.9674367088607594\n"
     ]
    }
   ],
   "source": [
    " # best tree and KNN models with all features\n",
    "bdt = DecisionTreeClassifier(min_samples_split=accu_min_split_max_depth[max_pos][0],\n",
    "                             max_depth=accu_min_split_max_depth[max_pos][1])\n",
    "bknn = KNeighborsClassifier(n_neighbors=10)\n",
    "# get cv scores\n",
    "bdt_scores = cross_validate(bdt, X_train_sd, y_train, cv=5, return_train_score=True)['test_score'].mean()\n",
    "bknn_scores = cross_validate(bknn, X_train_sd, y_train, cv=5, return_train_score=True)['test_score'].mean()\n",
    "# show the result\n",
    "print('Tree model CV score:', bdt_scores)\n",
    "print('KNN model CV score:', bknn_scores)"
   ]
  },
  {
   "cell_type": "markdown",
   "metadata": {
    "pycharm": {
     "name": "#%% md\n"
    }
   },
   "source": [
    "## Part 6: Test Data [0.5 Mark]\n",
    "\n",
    "Now that you've created several models, pick your best one (the highest CV accuracy) and apply it to the test dataset you had initially set aside. Discuss your results."
   ]
  },
  {
   "cell_type": "code",
   "execution_count": 25,
   "metadata": {
    "pycharm": {
     "name": "#%%\n"
    }
   },
   "outputs": [
    {
     "data": {
      "text/plain": [
       "KNeighborsClassifier(n_neighbors=20)"
      ]
     },
     "execution_count": 25,
     "metadata": {},
     "output_type": "execute_result"
    }
   ],
   "source": [
    "# the best is feature selected KNN model\n",
    "best_model_knn = KNeighborsClassifier(n_neighbors = out_sd.loc[out_sd['KNN Accuracy'].idxmax()][1])\n",
    "X_train_sd = pd.DataFrame(X_train_sd, columns=dataset.feature_names.tolist())\n",
    "X_test_sd = pd.DataFrame(X_test_sd, columns=dataset.feature_names.tolist())\n",
    "\n",
    "# use selected features\n",
    "removed_importance = [out_sd['Removed Feature'][:out_sd['KNN Accuracy'].idxmax()+1]][0][1:].tolist()\n",
    "selected_importance = list(set(dataset.feature_names.tolist()).symmetric_difference(set(removed_importance)))\n",
    "best_model_knn.fit(X_train_sd[selected_importance], y_train)"
   ]
  },
  {
   "cell_type": "code",
   "execution_count": 26,
   "metadata": {
    "pycharm": {
     "name": "#%%\n"
    }
   },
   "outputs": [
    {
     "name": "stdout",
     "output_type": "stream",
     "text": [
      "Best Model\n"
     ]
    },
    {
     "data": {
      "image/png": "[encoded data removed]",
      "text/plain": [
       "<Figure size 432x288 with 2 Axes>"
      ]
     },
     "metadata": {
      "needs_background": "light"
     },
     "output_type": "display_data"
    },
    {
     "name": "stdout",
     "output_type": "stream",
     "text": [
      "Precision: 0.953\n",
      "Recall: 0.944\n",
      "F1: 0.949\n",
      "Accuracy: 0.936\n"
     ]
    }
   ],
   "source": [
    "from sklearn.metrics import *\n",
    "\n",
    "# predict and compare the results between Tree and KNN\n",
    "y_predict_knn = best_model_knn.predict(X_test_sd[selected_importance])\n",
    "\n",
    "# plot KNN\n",
    "print('Best Model')\n",
    "cm_knn = confusion_matrix(y_test, y_predict_knn)\n",
    "disp_knn = ConfusionMatrixDisplay(confusion_matrix=cm_knn)\n",
    "disp_knn.plot(cmap='RdBu')\n",
    "plt.show()\n",
    "print('Precision: %.3f' % precision_score(y_test, y_predict_knn))\n",
    "print('Recall: %.3f' % recall_score(y_test, y_predict_knn))\n",
    "print('F1: %.3f' % f1_score(y_test, y_predict_knn))\n",
    "print('Accuracy: %.3f' % accuracy_score(y_test, y_predict_knn))"
   ]
  },
  {
   "cell_type": "markdown",
   "metadata": {
    "pycharm": {
     "name": "#%% md\n"
    }
   },
   "source": [
    "#### Answer:\n",
    "The overall model performance is good with all metrics, the testing set accuracy is close to the training performance(around 95%depends on the random number)."
   ]
  },
  {
   "cell_type": "markdown",
   "metadata": {
    "id": "_BEWsyV4v4mm",
    "pycharm": {
     "name": "#%% md\n"
    }
   },
   "source": [
    "References:\n",
    "\n",
    "https://towardsdatascience.com/decision-trees-in-machine-learning-641b9c4e8052\n",
    "\n",
    "https://www.analyticsvidhya.com/blog/2021/02/machine-learning-101-decision-tree-algorithm-for-classification/"
   ]
  },
  {
   "cell_type": "code",
   "execution_count": null,
   "metadata": {
    "id": "EPjhzY13v4mm",
    "pycharm": {
     "name": "#%%\n"
    }
   },
   "outputs": [],
   "source": []
  }
 ],
 "metadata": {
  "colab": {
   "collapsed_sections": [],
   "provenance": []
  },
  "kernelspec": {
   "display_name": "Python 3 (ipykernel)",
   "language": "python",
   "name": "python3"
  },
  "language_info": {
   "codemirror_mode": {
    "name": "ipython",
    "version": 3
   },
   "file_extension": ".py",
   "mimetype": "text/x-python",
   "name": "python",
   "nbconvert_exporter": "python",
   "pygments_lexer": "ipython3",
   "version": "3.9.12"
  }
 },
 "nbformat": 4,
 "nbformat_minor": 1
}