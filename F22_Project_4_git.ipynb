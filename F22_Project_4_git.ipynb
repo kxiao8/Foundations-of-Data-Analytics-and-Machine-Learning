{
 "nbformat": 4,
 "nbformat_minor": 0,
 "metadata": {
  "colab": {
   "provenance": []
  },
  "kernelspec": {
   "display_name": "Python 3",
   "language": "python",
   "name": "python3"
  },
  "language_info": {
   "codemirror_mode": {
    "name": "ipython",
    "version": 3
   },
   "file_extension": ".py",
   "mimetype": "text/x-python",
   "name": "python",
   "nbconvert_exporter": "python",
   "pygments_lexer": "ipython3",
   "version": "3.7.4"
  }
 },
 "cells": [
  {
   "cell_type": "markdown",
   "metadata": {
    "id": "OTpnyUEJrAjE",
    "pycharm": {
     "name": "#%% md\n"
    }
   },
   "source": [
    "# Project 4, Git Practice, APS1070 Fall 2022\n",
    "#### **Linear Regression -  14 points**\n",
    "**Deadline: Dec 1st, 21:00**\n",
    "\n",
    "**Academic Integrity**\n",
    "\n",
    "This project is individual - it is to be completed on your own. If you have questions, please post your query in the APS1070 Piazza Q&A forums (the answer might be useful to others!).\n",
    "\n",
    "Do not share your code with others, or post your work online. Do not submit code that you have not written yourself. Students suspected of plagiarism on a project, midterm or exam will be referred to the department for formal discipline for breaches of the Student Code of Conduct."
   ]
  },
  {
   "cell_type": "markdown",
   "metadata": {
    "id": "fUdJ6xw3rJIG",
    "pycharm": {
     "name": "#%% md\n"
    }
   },
   "source": [
    "Please fill out the following:\n",
    "\n",
    "\n",
    "*   Your **name**: Kecheng Xiao\n",
    "*   Your **student number**: 1008709140\n",
    "\n"
   ]
  },
  {
   "cell_type": "markdown",
   "metadata": {
    "id": "sy0M4UZZNEk2",
    "pycharm": {
     "name": "#%% md\n"
    }
   },
   "source": [
    "## Gradient Descent with Additional Features and Regularization [2 marks + 1 mark Git submission]\n",
    "\n",
    "We'll apply linear regresssion to a toy dataset (`LR_data.csv`), with 10 features `x1`-`x10` and a \"measurement\" `y`. We'll take a few shortcuts by using built-in sklearn functions.\n",
    "\n",
    "1. Data Preparation **[0.5]**\n",
    "  * Print the dataset, and create Numpy arrays with inputs (X) and outputs (y). \n",
    "  * Split the dataset into training and validation sets (80% training, 20% validation). When splitting, set `random_state=1`.\n",
    "\n",
    "2. Linear Regression **[0.5]**\n",
    "  * Standardize the data using StandardScaler from sklearn.\n",
    "  * Use the `sklearn.linear_model.LinearRegression` function [here](https://scikit-learn.org/stable/modules/generated/sklearn.linear_model.LinearRegression.html) to perform linear regression.\n",
    "  * Print the RMSE for training and validation data.\n",
    "\n",
    "3. Linear Regression with Additional Features **[0.5]**\n",
    "  * Let's add more features to our dataset (degree 8) using `sklearn.preprocessing.PolynomialFeatures` [here](https://scikit-learn.org/stable/modules/generated/sklearn.preprocessing.PolynomialFeatures.html). You'll want to create the additional features first, then perform standardization (start from non-standardized data).\n",
    "  * Again, use `sklearn.linear_model.LinearRegression` to perform linear regression.\n",
    "  * Print the RMSE for training and validation data.\n",
    "\n",
    "4. Linear Regression with Additional Features and Regularization **[0.5]**\n",
    "  * Let's switch models, and instead use the `sklearn.linear_model.Ridge` function [here](https://scikit-learn.org/stable/modules/generated/sklearn.linear_model.Ridge.html#sklearn.linear_model.Ridge) to perform linear regression with regularization. Apply the model to the processed data (additional, standardized) you used in 3 above. Use a `FOR` loop to run `sklearn.linear_model.Ridge` with different `alpha` values. Specifically, sweep `alpha` from 1E-2 to 1E10 (each step is an order of magnitude jump)."
   ]
  },
  {
   "cell_type": "code",
   "execution_count": 2,
   "outputs": [],
   "source": [
    "import pandas as pd\n",
    "df = pd.read_csv(\"https://raw.githubusercontent.com/aps1070-2019/datasets/master/LR_data.csv\" , skipinitialspace=True)"
   ],
   "metadata": {
    "collapsed": false,
    "pycharm": {
     "name": "#%%\n"
    }
   }
  },
  {
   "cell_type": "markdown",
   "source": [
    "# Step 1"
   ],
   "metadata": {
    "collapsed": false,
    "pycharm": {
     "name": "#%% md\n"
    }
   }
  },
  {
   "cell_type": "code",
   "execution_count": 65,
   "outputs": [
    {
     "data": {
      "text/plain": "           x1        x2        x3        x4        x5        x6        x7  \\\n0    1.454481  4.940543  7.116015  3.805131  4.105432  1.832290  5.211909   \n1    4.907182  1.653654  7.339445  9.065282  7.169233  2.354136  2.893005   \n2    1.842804  1.183878  4.203206  6.815847  6.655899  8.295816  3.556779   \n3    2.393457  0.094127  3.208929  0.497443  4.318127  4.999247  9.470238   \n4    5.093724  3.905293  4.858562  4.465484  0.947091  9.410307  8.137329   \n..        ...       ...       ...       ...       ...       ...       ...   \n195  2.936450  2.094812  9.493814  3.411240  4.350940  0.386062  1.303290   \n196  4.915597  1.953974  7.312552  9.331203  1.329366  8.286760  5.233018   \n197  6.772096  6.406489  4.638352  7.042340  0.912338  7.568296  1.194928   \n198  3.940339  4.330498  6.693371  9.169265  0.858846  0.601942  2.635455   \n199  8.636129  1.272939  4.339175  4.417427  5.697190  8.944253  7.952686   \n\n           x8        x9       x10             y  \n0    5.088293  3.841250  6.121133  6.575066e+06  \n1    8.720131  8.646473  3.806860  8.419881e+06  \n2    5.794679  3.260723  5.463808  9.745537e+04  \n3    3.061990  7.312995  5.475240  1.129200e+04  \n4    9.043838  9.128607  0.790795  3.105448e+05  \n..        ...       ...       ...           ...  \n195  2.699563  7.622569  3.037162  6.599726e+07  \n196  7.476923  7.043560  5.745565  8.176250e+06  \n197  2.592840  9.386478  4.147710  2.144147e+05  \n198  2.037859  7.883720  8.525164  4.028735e+06  \n199  4.917967  9.543772  5.673870  1.257168e+05  \n\n[200 rows x 11 columns]",
      "text/html": "<div>\n<style scoped>\n    .dataframe tbody tr th:only-of-type {\n        vertical-align: middle;\n    }\n\n    .dataframe tbody tr th {\n        vertical-align: top;\n    }\n\n    .dataframe thead th {\n        text-align: right;\n    }\n</style>\n<table border=\"1\" class=\"dataframe\">\n  <thead>\n    <tr style=\"text-align: right;\">\n      <th></th>\n      <th>x1</th>\n      <th>x2</th>\n      <th>x3</th>\n      <th>x4</th>\n      <th>x5</th>\n      <th>x6</th>\n      <th>x7</th>\n      <th>x8</th>\n      <th>x9</th>\n      <th>x10</th>\n      <th>y</th>\n    </tr>\n  </thead>\n  <tbody>\n    <tr>\n      <th>0</th>\n      <td>1.454481</td>\n      <td>4.940543</td>\n      <td>7.116015</td>\n      <td>3.805131</td>\n      <td>4.105432</td>\n      <td>1.832290</td>\n      <td>5.211909</td>\n      <td>5.088293</td>\n      <td>3.841250</td>\n      <td>6.121133</td>\n      <td>6.575066e+06</td>\n    </tr>\n    <tr>\n      <th>1</th>\n      <td>4.907182</td>\n      <td>1.653654</td>\n      <td>7.339445</td>\n      <td>9.065282</td>\n      <td>7.169233</td>\n      <td>2.354136</td>\n      <td>2.893005</td>\n      <td>8.720131</td>\n      <td>8.646473</td>\n      <td>3.806860</td>\n      <td>8.419881e+06</td>\n    </tr>\n    <tr>\n      <th>2</th>\n      <td>1.842804</td>\n      <td>1.183878</td>\n      <td>4.203206</td>\n      <td>6.815847</td>\n      <td>6.655899</td>\n      <td>8.295816</td>\n      <td>3.556779</td>\n      <td>5.794679</td>\n      <td>3.260723</td>\n      <td>5.463808</td>\n      <td>9.745537e+04</td>\n    </tr>\n    <tr>\n      <th>3</th>\n      <td>2.393457</td>\n      <td>0.094127</td>\n      <td>3.208929</td>\n      <td>0.497443</td>\n      <td>4.318127</td>\n      <td>4.999247</td>\n      <td>9.470238</td>\n      <td>3.061990</td>\n      <td>7.312995</td>\n      <td>5.475240</td>\n      <td>1.129200e+04</td>\n    </tr>\n    <tr>\n      <th>4</th>\n      <td>5.093724</td>\n      <td>3.905293</td>\n      <td>4.858562</td>\n      <td>4.465484</td>\n      <td>0.947091</td>\n      <td>9.410307</td>\n      <td>8.137329</td>\n      <td>9.043838</td>\n      <td>9.128607</td>\n      <td>0.790795</td>\n      <td>3.105448e+05</td>\n    </tr>\n    <tr>\n      <th>...</th>\n      <td>...</td>\n      <td>...</td>\n      <td>...</td>\n      <td>...</td>\n      <td>...</td>\n      <td>...</td>\n      <td>...</td>\n      <td>...</td>\n      <td>...</td>\n      <td>...</td>\n      <td>...</td>\n    </tr>\n    <tr>\n      <th>195</th>\n      <td>2.936450</td>\n      <td>2.094812</td>\n      <td>9.493814</td>\n      <td>3.411240</td>\n      <td>4.350940</td>\n      <td>0.386062</td>\n      <td>1.303290</td>\n      <td>2.699563</td>\n      <td>7.622569</td>\n      <td>3.037162</td>\n      <td>6.599726e+07</td>\n    </tr>\n    <tr>\n      <th>196</th>\n      <td>4.915597</td>\n      <td>1.953974</td>\n      <td>7.312552</td>\n      <td>9.331203</td>\n      <td>1.329366</td>\n      <td>8.286760</td>\n      <td>5.233018</td>\n      <td>7.476923</td>\n      <td>7.043560</td>\n      <td>5.745565</td>\n      <td>8.176250e+06</td>\n    </tr>\n    <tr>\n      <th>197</th>\n      <td>6.772096</td>\n      <td>6.406489</td>\n      <td>4.638352</td>\n      <td>7.042340</td>\n      <td>0.912338</td>\n      <td>7.568296</td>\n      <td>1.194928</td>\n      <td>2.592840</td>\n      <td>9.386478</td>\n      <td>4.147710</td>\n      <td>2.144147e+05</td>\n    </tr>\n    <tr>\n      <th>198</th>\n      <td>3.940339</td>\n      <td>4.330498</td>\n      <td>6.693371</td>\n      <td>9.169265</td>\n      <td>0.858846</td>\n      <td>0.601942</td>\n      <td>2.635455</td>\n      <td>2.037859</td>\n      <td>7.883720</td>\n      <td>8.525164</td>\n      <td>4.028735e+06</td>\n    </tr>\n    <tr>\n      <th>199</th>\n      <td>8.636129</td>\n      <td>1.272939</td>\n      <td>4.339175</td>\n      <td>4.417427</td>\n      <td>5.697190</td>\n      <td>8.944253</td>\n      <td>7.952686</td>\n      <td>4.917967</td>\n      <td>9.543772</td>\n      <td>5.673870</td>\n      <td>1.257168e+05</td>\n    </tr>\n  </tbody>\n</table>\n<p>200 rows × 11 columns</p>\n</div>"
     },
     "execution_count": 65,
     "metadata": {},
     "output_type": "execute_result"
    }
   ],
   "source": [
    "df"
   ],
   "metadata": {
    "collapsed": false,
    "pycharm": {
     "name": "#%%\n"
    }
   }
  },
  {
   "cell_type": "code",
   "execution_count": 66,
   "outputs": [],
   "source": [
    "X = df.drop(columns=['y']).values\n",
    "y = df['y'].values"
   ],
   "metadata": {
    "collapsed": false,
    "pycharm": {
     "name": "#%%\n"
    }
   }
  },
  {
   "cell_type": "code",
   "execution_count": 67,
   "outputs": [],
   "source": [
    "from sklearn.model_selection import train_test_split\n",
    "\n",
    "# split\n",
    "X_train, X_val, y_train, y_val = train_test_split(X, y, test_size=20/100,  random_state=1)"
   ],
   "metadata": {
    "collapsed": false,
    "pycharm": {
     "name": "#%%\n"
    }
   }
  },
  {
   "cell_type": "markdown",
   "source": [
    "# Step 2"
   ],
   "metadata": {
    "collapsed": false,
    "pycharm": {
     "name": "#%% md\n"
    }
   }
  },
  {
   "cell_type": "code",
   "execution_count": 68,
   "outputs": [],
   "source": [
    "from sklearn.preprocessing import StandardScaler\n",
    "\n",
    "# standardize\n",
    "scaler = StandardScaler()\n",
    "X_train_sd = scaler.fit_transform(X_train)\n",
    "X_val_sd = scaler.transform(X_val)"
   ],
   "metadata": {
    "collapsed": false,
    "pycharm": {
     "name": "#%%\n"
    }
   }
  },
  {
   "cell_type": "code",
   "execution_count": 69,
   "outputs": [
    {
     "name": "stdout",
     "output_type": "stream",
     "text": [
      "Train RMSE: 16296980.66 | Validate RMSE: 14061578.86\n"
     ]
    }
   ],
   "source": [
    "from sklearn.metrics import mean_squared_error\n",
    "from sklearn.linear_model import LinearRegression\n",
    "import numpy as np\n",
    "\n",
    "# linear regression\n",
    "LR = LinearRegression().fit(X_train_sd, y_train)\n",
    "\n",
    "# predict and print rmse\n",
    "y_train_pred = LR.predict(X_train_sd)\n",
    "train_rmse = np.sqrt(mean_squared_error(y_train, y_train_pred))\n",
    "y_val_pred = LR.predict(X_val_sd)\n",
    "val_rmse = np.sqrt(mean_squared_error(y_val, y_val_pred))\n",
    "print('Train RMSE: %.2f | Validate RMSE: %.2f' % (train_rmse, val_rmse))"
   ],
   "metadata": {
    "collapsed": false,
    "pycharm": {
     "name": "#%%\n"
    }
   }
  },
  {
   "cell_type": "markdown",
   "source": [
    "# Step 3"
   ],
   "metadata": {
    "collapsed": false,
    "pycharm": {
     "name": "#%% md\n"
    }
   }
  },
  {
   "cell_type": "code",
   "execution_count": 70,
   "outputs": [],
   "source": [
    "from sklearn.preprocessing import PolynomialFeatures\n",
    "\n",
    "# add ploy-terms\n",
    "poly = PolynomialFeatures(degree=8)\n",
    "X_train = poly.fit_transform(X_train)\n",
    "X_val = poly.transform(X_val)\n",
    "\n",
    "# standardize\n",
    "scaler = StandardScaler()\n",
    "X_train_sd = scaler.fit_transform(X_train)\n",
    "X_val_sd = scaler.transform(X_val)"
   ],
   "metadata": {
    "collapsed": false,
    "pycharm": {
     "name": "#%%\n"
    }
   }
  },
  {
   "cell_type": "code",
   "execution_count": 71,
   "outputs": [
    {
     "name": "stdout",
     "output_type": "stream",
     "text": [
      "Train RMSE: 0.00 | Validate RMSE: 10964844.75\n"
     ]
    }
   ],
   "source": [
    "# fit LR with poly term\n",
    "LR2 = LinearRegression().fit(X_train_sd, y_train)\n",
    "\n",
    "# predict and print rmse\n",
    "y_train_pred = LR2.predict(X_train_sd)\n",
    "train_rmse = np.sqrt(mean_squared_error(y_train, y_train_pred))\n",
    "y_val_pred = LR2.predict(X_val_sd)\n",
    "val_rmse = np.sqrt(mean_squared_error(y_val, y_val_pred))\n",
    "print('Train RMSE: %.2f | Validate RMSE: %.2f' % (train_rmse, val_rmse))"
   ],
   "metadata": {
    "collapsed": false,
    "pycharm": {
     "name": "#%%\n"
    }
   }
  },
  {
   "cell_type": "markdown",
   "source": [
    "# Step 4"
   ],
   "metadata": {
    "collapsed": false,
    "pycharm": {
     "name": "#%% md\n"
    }
   }
  },
  {
   "cell_type": "code",
   "execution_count": 72,
   "outputs": [
    {
     "name": "stdout",
     "output_type": "stream",
     "text": [
      "Alpha: 0.01 | Train RMSE: 321.01 | Validate RMSE: 10919504.13\n",
      "Alpha: 0.10 | Train RMSE: 3199.35 | Validate RMSE: 10916171.33\n",
      "Alpha: 1.00 | Train RMSE: 30988.52 | Validate RMSE: 10884651.02\n",
      "Alpha: 10.00 | Train RMSE: 248080.37 | Validate RMSE: 10659707.10\n",
      "Alpha: 100.00 | Train RMSE: 1196923.62 | Validate RMSE: 9484394.22\n",
      "Alpha: 1000.00 | Train RMSE: 3609078.26 | Validate RMSE: 5633182.88\n",
      "Alpha: 10000.00 | Train RMSE: 7712389.43 | Validate RMSE: 4521905.58\n",
      "Alpha: 100000.00 | Train RMSE: 14600498.52 | Validate RMSE: 10502863.78\n",
      "Alpha: 1000000.00 | Train RMSE: 20036025.01 | Validate RMSE: 16057627.10\n",
      "Alpha: 10000000.00 | Train RMSE: 22910819.32 | Validate RMSE: 18700005.54\n",
      "Alpha: 100000000.00 | Train RMSE: 23435716.16 | Validate RMSE: 19178033.46\n",
      "Alpha: 1000000000.00 | Train RMSE: 23494007.19 | Validate RMSE: 19231116.41\n",
      "Alpha: 10000000000.00 | Train RMSE: 23499904.34 | Validate RMSE: 19236486.54\n"
     ]
    }
   ],
   "source": [
    "from sklearn.linear_model import Ridge\n",
    "\n",
    "# alpha list\n",
    "alpha = [10**i for i in range(-2,11)]\n",
    "\n",
    "for a in alpha:\n",
    "    # standardize\n",
    "    scaler = StandardScaler()\n",
    "    X_train_sd = scaler.fit_transform(X_train)\n",
    "    X_val_sd = scaler.transform(X_val)\n",
    "\n",
    "    # fit ridge with alpha\n",
    "    RD = Ridge(alpha=a)\n",
    "    RD.fit(X_train_sd, y_train)\n",
    "\n",
    "    # predict and print rmse\n",
    "    y_train_pred = RD.predict(X_train_sd)\n",
    "    train_rmse = np.sqrt(mean_squared_error(y_train, y_train_pred))\n",
    "    y_val_pred = RD.predict(X_val_sd)\n",
    "    val_rmse = np.sqrt(mean_squared_error(y_val, y_val_pred))\n",
    "    print('Alpha: %.2f | Train RMSE: %.2f | Validate RMSE: %.2f' % (a, train_rmse, val_rmse))"
   ],
   "metadata": {
    "collapsed": false,
    "pycharm": {
     "name": "#%%\n"
    }
   }
  },
  {
   "cell_type": "code",
   "execution_count": null,
   "outputs": [],
   "source": [],
   "metadata": {
    "collapsed": false,
    "pycharm": {
     "name": "#%%\n"
    }
   }
  }
 ]
}